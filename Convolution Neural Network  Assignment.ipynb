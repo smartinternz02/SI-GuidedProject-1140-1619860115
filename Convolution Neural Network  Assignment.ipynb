{
 "cells": [
  {
   "cell_type": "code",
   "execution_count": 1,
   "metadata": {},
   "outputs": [],
   "source": [
    "from tensorflow.keras.models import Sequential\n",
    "from tensorflow.keras.layers import Dense\n",
    "from tensorflow.keras.layers import Convolution2D\n",
    "from tensorflow.keras.layers import MaxPooling2D\n",
    "from tensorflow.keras.layers import Flatten"
   ]
  },
  {
   "cell_type": "code",
   "execution_count": 2,
   "metadata": {},
   "outputs": [
    {
     "name": "stderr",
     "output_type": "stream",
     "text": [
      "Using TensorFlow backend.\n"
     ]
    }
   ],
   "source": [
    "from keras.preprocessing.image import ImageDataGenerator\n",
    "train_datagen = ImageDataGenerator(rescale = 1./255,shear_range = 0.2,zoom_range = 0.2,horizontal_flip = True)\n",
    "test_datagen = ImageDataGenerator(rescale = 1./255)"
   ]
  },
  {
   "cell_type": "code",
   "execution_count": 3,
   "metadata": {},
   "outputs": [
    {
     "name": "stdout",
     "output_type": "stream",
     "text": [
      "Found 100 images belonging to 5 classes.\n",
      "Found 50 images belonging to 5 classes.\n"
     ]
    }
   ],
   "source": [
    "x_train = train_datagen.flow_from_directory(r\"D:\\externship files\\things data\\trainset\",target_size = (64,64),batch_size = 32,class_mode = \"categorical\")\n",
    "x_test = test_datagen.flow_from_directory(r\"D:\\externship files\\things data\\testset\",target_size = (64,64),batch_size = 32,class_mode = \"categorical\")"
   ]
  },
  {
   "cell_type": "code",
   "execution_count": 4,
   "metadata": {},
   "outputs": [],
   "source": [
    "model = Sequential()"
   ]
  },
  {
   "cell_type": "code",
   "execution_count": 5,
   "metadata": {},
   "outputs": [
    {
     "name": "stdout",
     "output_type": "stream",
     "text": [
      "WARNING:tensorflow:From C:\\Users\\suman\\AppData\\Local\\Continuum\\anaconda3\\lib\\site-packages\\tensorflow\\python\\ops\\init_ops.py:1251: calling VarianceScaling.__init__ (from tensorflow.python.ops.init_ops) with dtype is deprecated and will be removed in a future version.\n",
      "Instructions for updating:\n",
      "Call initializer instance with the dtype argument instead of passing it to the constructor\n"
     ]
    }
   ],
   "source": [
    "model.add(Convolution2D(32,(3,3),input_shape = (64,64,3),activation = \"relu\"))"
   ]
  },
  {
   "cell_type": "code",
   "execution_count": 6,
   "metadata": {},
   "outputs": [],
   "source": [
    "model.add(MaxPooling2D(2,2))"
   ]
  },
  {
   "cell_type": "code",
   "execution_count": 7,
   "metadata": {},
   "outputs": [],
   "source": [
    "model.add(Flatten())"
   ]
  },
  {
   "cell_type": "code",
   "execution_count": 8,
   "metadata": {},
   "outputs": [
    {
     "name": "stdout",
     "output_type": "stream",
     "text": [
      "WARNING:tensorflow:From C:\\Users\\suman\\AppData\\Local\\Continuum\\anaconda3\\lib\\site-packages\\tensorflow\\python\\keras\\initializers.py:119: calling RandomUniform.__init__ (from tensorflow.python.ops.init_ops) with dtype is deprecated and will be removed in a future version.\n",
      "Instructions for updating:\n",
      "Call initializer instance with the dtype argument instead of passing it to the constructor\n"
     ]
    }
   ],
   "source": [
    "model.add(Dense(units = 512,activation = \"relu\",kernel_initializer = \"random_uniform\"))"
   ]
  },
  {
   "cell_type": "code",
   "execution_count": 9,
   "metadata": {},
   "outputs": [],
   "source": [
    "model.add(Dense(units = 5,activation = \"softmax\",kernel_initializer = \"random_uniform\"))"
   ]
  },
  {
   "cell_type": "code",
   "execution_count": 10,
   "metadata": {},
   "outputs": [],
   "source": [
    "model.compile(\"sgd\",loss = \"categorical_crossentropy\",metrics = [\"accuracy\"])"
   ]
  },
  {
   "cell_type": "code",
   "execution_count": 11,
   "metadata": {},
   "outputs": [
    {
     "name": "stdout",
     "output_type": "stream",
     "text": [
      "Epoch 1/30\n",
      "47/47 [==============================] - 9s 195ms/step - loss: 1.5577 - acc: 0.3305 - val_loss: 1.4370 - val_acc: 0.4600\n",
      "Epoch 2/30\n",
      "47/47 [==============================] - 9s 189ms/step - loss: 1.3535 - acc: 0.4875 - val_loss: 1.3316 - val_acc: 0.4800\n",
      "Epoch 3/30\n",
      "47/47 [==============================] - 8s 179ms/step - loss: 1.1843 - acc: 0.5798 - val_loss: 1.4420 - val_acc: 0.3400\n",
      "Epoch 4/30\n",
      "47/47 [==============================] - 9s 182ms/step - loss: 0.9866 - acc: 0.6530 - val_loss: 1.3330 - val_acc: 0.4000\n",
      "Epoch 5/30\n",
      "47/47 [==============================] - 9s 182ms/step - loss: 0.9051 - acc: 0.6892 - val_loss: 1.1688 - val_acc: 0.6400\n",
      "Epoch 6/30\n",
      "47/47 [==============================] - 9s 184ms/step - loss: 0.7548 - acc: 0.7609 - val_loss: 1.1342 - val_acc: 0.6400\n",
      "Epoch 7/30\n",
      "47/47 [==============================] - 9s 185ms/step - loss: 0.6966 - acc: 0.7560 - val_loss: 1.1744 - val_acc: 0.5400\n",
      "Epoch 8/30\n",
      "47/47 [==============================] - 8s 177ms/step - loss: 0.5817 - acc: 0.8074 - val_loss: 1.2616 - val_acc: 0.5600\n",
      "Epoch 9/30\n",
      "47/47 [==============================] - 8s 179ms/step - loss: 0.5391 - acc: 0.8356 - val_loss: 1.1206 - val_acc: 0.5600\n",
      "Epoch 10/30\n",
      "47/47 [==============================] - 9s 186ms/step - loss: 0.4250 - acc: 0.8804 - val_loss: 1.0646 - val_acc: 0.6200\n",
      "Epoch 11/30\n",
      "47/47 [==============================] - 9s 185ms/step - loss: 0.4270 - acc: 0.8793 - val_loss: 1.0931 - val_acc: 0.6000\n",
      "Epoch 12/30\n",
      "47/47 [==============================] - 9s 182ms/step - loss: 0.3279 - acc: 0.9135 - val_loss: 1.0498 - val_acc: 0.6200\n",
      "Epoch 13/30\n",
      "47/47 [==============================] - 9s 181ms/step - loss: 0.2826 - acc: 0.9255 - val_loss: 1.7509 - val_acc: 0.5000\n",
      "Epoch 14/30\n",
      "47/47 [==============================] - 9s 201ms/step - loss: 0.1955 - acc: 0.9478 - val_loss: 1.2385 - val_acc: 0.5600\n",
      "Epoch 15/30\n",
      "47/47 [==============================] - 9s 183ms/step - loss: 0.1862 - acc: 0.9523 - val_loss: 1.1301 - val_acc: 0.6400\n",
      "Epoch 16/30\n",
      "47/47 [==============================] - 8s 177ms/step - loss: 0.1821 - acc: 0.9546 - val_loss: 1.1903 - val_acc: 0.6200\n",
      "Epoch 17/30\n",
      "47/47 [==============================] - 8s 178ms/step - loss: 0.1187 - acc: 0.9846 - val_loss: 1.1724 - val_acc: 0.6200\n",
      "Epoch 18/30\n",
      "47/47 [==============================] - 9s 184ms/step - loss: 0.0848 - acc: 0.9916 - val_loss: 1.1969 - val_acc: 0.6400\n",
      "Epoch 19/30\n",
      "47/47 [==============================] - 9s 181ms/step - loss: 0.0701 - acc: 0.9897 - val_loss: 1.2235 - val_acc: 0.6200\n",
      "Epoch 20/30\n",
      "47/47 [==============================] - 9s 182ms/step - loss: 0.0549 - acc: 0.9974 - val_loss: 1.3298 - val_acc: 0.6200\n",
      "Epoch 21/30\n",
      "47/47 [==============================] - 8s 178ms/step - loss: 0.0727 - acc: 0.9808 - val_loss: 1.2699 - val_acc: 0.6800\n",
      "Epoch 22/30\n",
      "47/47 [==============================] - 8s 179ms/step - loss: 0.2684 - acc: 0.9535 - val_loss: 1.1778 - val_acc: 0.6600\n",
      "Epoch 23/30\n",
      "47/47 [==============================] - 9s 182ms/step - loss: 0.0501 - acc: 1.0000 - val_loss: 1.1876 - val_acc: 0.6800\n",
      "Epoch 24/30\n",
      "47/47 [==============================] - 9s 182ms/step - loss: 0.0386 - acc: 0.9991 - val_loss: 1.3497 - val_acc: 0.6200\n",
      "Epoch 25/30\n",
      "47/47 [==============================] - 8s 176ms/step - loss: 0.1534 - acc: 0.9795 - val_loss: 1.0541 - val_acc: 0.7000\n",
      "Epoch 26/30\n",
      "47/47 [==============================] - 9s 186ms/step - loss: 0.0480 - acc: 0.9992 - val_loss: 1.2250 - val_acc: 0.6600\n",
      "Epoch 27/30\n",
      "47/47 [==============================] - 8s 176ms/step - loss: 0.0343 - acc: 0.9991 - val_loss: 1.5457 - val_acc: 0.6000\n",
      "Epoch 28/30\n",
      "47/47 [==============================] - 8s 179ms/step - loss: 0.0682 - acc: 0.9849 - val_loss: 1.3774 - val_acc: 0.6200\n",
      "Epoch 29/30\n",
      "47/47 [==============================] - 8s 178ms/step - loss: 0.0341 - acc: 0.9975 - val_loss: 1.3000 - val_acc: 0.6600\n",
      "Epoch 30/30\n",
      "47/47 [==============================] - 8s 179ms/step - loss: 0.0211 - acc: 0.9991 - val_loss: 1.3522 - val_acc: 0.6200\n"
     ]
    },
    {
     "data": {
      "text/plain": [
       "<tensorflow.python.keras.callbacks.History at 0x22f65d95e48>"
      ]
     },
     "execution_count": 11,
     "metadata": {},
     "output_type": "execute_result"
    }
   ],
   "source": [
    "model.fit_generator(x_train,steps_per_epoch =47,epochs = 30,validation_data = x_test,validation_steps = 20)"
   ]
  },
  {
   "cell_type": "code",
   "execution_count": 12,
   "metadata": {},
   "outputs": [],
   "source": [
    "model.save(\"things.h5\")"
   ]
  },
  {
   "cell_type": "code",
   "execution_count": null,
   "metadata": {},
   "outputs": [],
   "source": []
  }
 ],
 "metadata": {
  "kernelspec": {
   "display_name": "Python 3",
   "language": "python",
   "name": "python3"
  },
  "language_info": {
   "codemirror_mode": {
    "name": "ipython",
    "version": 3
   },
   "file_extension": ".py",
   "mimetype": "text/x-python",
   "name": "python",
   "nbconvert_exporter": "python",
   "pygments_lexer": "ipython3",
   "version": "3.7.3"
  }
 },
 "nbformat": 4,
 "nbformat_minor": 2
}
